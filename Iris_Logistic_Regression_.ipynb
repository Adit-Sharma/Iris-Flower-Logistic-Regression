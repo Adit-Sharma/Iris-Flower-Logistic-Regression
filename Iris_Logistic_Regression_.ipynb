{
  "nbformat": 4,
  "nbformat_minor": 0,
  "metadata": {
    "colab": {
      "name": "Iris Logistic Regression .ipynb",
      "provenance": [],
      "collapsed_sections": []
    },
    "kernelspec": {
      "name": "python3",
      "display_name": "Python 3"
    }
  },
  "cells": [
    {
      "cell_type": "markdown",
      "metadata": {
        "id": "nXdMP479caLx"
      },
      "source": [
        "##1. Mounting Data"
      ]
    },
    {
      "cell_type": "code",
      "metadata": {
        "id": "IScpbmogbmHO",
        "colab": {
          "base_uri": "https://localhost:8080/",
          "height": 33
        },
        "outputId": "a133b826-fbd5-4299-cd6a-60125d359bc2"
      },
      "source": [
        "from google.colab import drive\n",
        "drive.mount('/gdrive')"
      ],
      "execution_count": null,
      "outputs": [
        {
          "output_type": "stream",
          "text": [
            "Mounted at /gdrive\n"
          ],
          "name": "stdout"
        }
      ]
    },
    {
      "cell_type": "markdown",
      "metadata": {
        "id": "hE6YHnuVdAII"
      },
      "source": [
        "##2. Importing Libraries"
      ]
    },
    {
      "cell_type": "code",
      "metadata": {
        "id": "BUPmJZZydL0d"
      },
      "source": [
        "import numpy as np\n",
        "import pandas as pd"
      ],
      "execution_count": null,
      "outputs": []
    },
    {
      "cell_type": "markdown",
      "metadata": {
        "id": "p2Q6Cqfxcllc"
      },
      "source": [
        "##3. Defining Path and Raw data"
      ]
    },
    {
      "cell_type": "code",
      "metadata": {
        "id": "y54ebOoKcYrh"
      },
      "source": [
        "path = '/gdrive/My Drive/ML1 Course1 Sept 2020/Assignments/Data/'"
      ],
      "execution_count": null,
      "outputs": []
    },
    {
      "cell_type": "code",
      "metadata": {
        "id": "468oEV1tc36Y",
        "colab": {
          "base_uri": "https://localhost:8080/",
          "height": 196
        },
        "outputId": "68572050-4742-4e5b-8928-274a0056051d"
      },
      "source": [
        "raw_data = pd.read_csv(path + 'Iris.csv')\n",
        "raw_data.head()"
      ],
      "execution_count": null,
      "outputs": [
        {
          "output_type": "execute_result",
          "data": {
            "text/html": [
              "<div>\n",
              "<style scoped>\n",
              "    .dataframe tbody tr th:only-of-type {\n",
              "        vertical-align: middle;\n",
              "    }\n",
              "\n",
              "    .dataframe tbody tr th {\n",
              "        vertical-align: top;\n",
              "    }\n",
              "\n",
              "    .dataframe thead th {\n",
              "        text-align: right;\n",
              "    }\n",
              "</style>\n",
              "<table border=\"1\" class=\"dataframe\">\n",
              "  <thead>\n",
              "    <tr style=\"text-align: right;\">\n",
              "      <th></th>\n",
              "      <th>Id</th>\n",
              "      <th>SepalLengthCm</th>\n",
              "      <th>SepalWidthCm</th>\n",
              "      <th>PetalLengthCm</th>\n",
              "      <th>PetalWidthCm</th>\n",
              "      <th>Species</th>\n",
              "    </tr>\n",
              "  </thead>\n",
              "  <tbody>\n",
              "    <tr>\n",
              "      <th>0</th>\n",
              "      <td>1</td>\n",
              "      <td>5.1</td>\n",
              "      <td>3.5</td>\n",
              "      <td>1.4</td>\n",
              "      <td>0.2</td>\n",
              "      <td>Iris-setosa</td>\n",
              "    </tr>\n",
              "    <tr>\n",
              "      <th>1</th>\n",
              "      <td>2</td>\n",
              "      <td>4.9</td>\n",
              "      <td>3.0</td>\n",
              "      <td>1.4</td>\n",
              "      <td>0.2</td>\n",
              "      <td>Iris-setosa</td>\n",
              "    </tr>\n",
              "    <tr>\n",
              "      <th>2</th>\n",
              "      <td>3</td>\n",
              "      <td>4.7</td>\n",
              "      <td>3.2</td>\n",
              "      <td>1.3</td>\n",
              "      <td>0.2</td>\n",
              "      <td>Iris-setosa</td>\n",
              "    </tr>\n",
              "    <tr>\n",
              "      <th>3</th>\n",
              "      <td>4</td>\n",
              "      <td>4.6</td>\n",
              "      <td>3.1</td>\n",
              "      <td>1.5</td>\n",
              "      <td>0.2</td>\n",
              "      <td>Iris-setosa</td>\n",
              "    </tr>\n",
              "    <tr>\n",
              "      <th>4</th>\n",
              "      <td>5</td>\n",
              "      <td>5.0</td>\n",
              "      <td>3.6</td>\n",
              "      <td>1.4</td>\n",
              "      <td>0.2</td>\n",
              "      <td>Iris-setosa</td>\n",
              "    </tr>\n",
              "  </tbody>\n",
              "</table>\n",
              "</div>"
            ],
            "text/plain": [
              "   Id  SepalLengthCm  SepalWidthCm  PetalLengthCm  PetalWidthCm      Species\n",
              "0   1            5.1           3.5            1.4           0.2  Iris-setosa\n",
              "1   2            4.9           3.0            1.4           0.2  Iris-setosa\n",
              "2   3            4.7           3.2            1.3           0.2  Iris-setosa\n",
              "3   4            4.6           3.1            1.5           0.2  Iris-setosa\n",
              "4   5            5.0           3.6            1.4           0.2  Iris-setosa"
            ]
          },
          "metadata": {
            "tags": []
          },
          "execution_count": 8
        }
      ]
    },
    {
      "cell_type": "markdown",
      "metadata": {
        "id": "ye_N0NIewgdY"
      },
      "source": [
        "##4. Dropping Unwanted Data"
      ]
    },
    {
      "cell_type": "code",
      "metadata": {
        "id": "8shKWnzSwuWn"
      },
      "source": [
        "raw_data = raw_data.drop(columns=[\"Id\"])"
      ],
      "execution_count": null,
      "outputs": []
    },
    {
      "cell_type": "markdown",
      "metadata": {
        "id": "BFTraB6qeJ0-"
      },
      "source": [
        "##5. Shuffling the Data\n",
        "Shuffling data serves the purpose of reducing variance and making sure that models remain general and overfit less. \n",
        "By shuffling your data, you ensure that each data point creates an \"independent\" change on the model, without being biased by the same points before them."
      ]
    },
    {
      "cell_type": "code",
      "metadata": {
        "id": "vTBI3KGcdqzy",
        "colab": {
          "base_uri": "https://localhost:8080/",
          "height": 196
        },
        "outputId": "c013cece-1914-4092-df4c-688dd24513ac"
      },
      "source": [
        "from sklearn.utils import shuffle\n",
        "raw_data = shuffle(raw_data)\n",
        "\n",
        "raw_data.head()"
      ],
      "execution_count": null,
      "outputs": [
        {
          "output_type": "execute_result",
          "data": {
            "text/html": [
              "<div>\n",
              "<style scoped>\n",
              "    .dataframe tbody tr th:only-of-type {\n",
              "        vertical-align: middle;\n",
              "    }\n",
              "\n",
              "    .dataframe tbody tr th {\n",
              "        vertical-align: top;\n",
              "    }\n",
              "\n",
              "    .dataframe thead th {\n",
              "        text-align: right;\n",
              "    }\n",
              "</style>\n",
              "<table border=\"1\" class=\"dataframe\">\n",
              "  <thead>\n",
              "    <tr style=\"text-align: right;\">\n",
              "      <th></th>\n",
              "      <th>SepalLengthCm</th>\n",
              "      <th>SepalWidthCm</th>\n",
              "      <th>PetalLengthCm</th>\n",
              "      <th>PetalWidthCm</th>\n",
              "      <th>Species</th>\n",
              "    </tr>\n",
              "  </thead>\n",
              "  <tbody>\n",
              "    <tr>\n",
              "      <th>136</th>\n",
              "      <td>6.3</td>\n",
              "      <td>3.4</td>\n",
              "      <td>5.6</td>\n",
              "      <td>2.4</td>\n",
              "      <td>Iris-virginica</td>\n",
              "    </tr>\n",
              "    <tr>\n",
              "      <th>86</th>\n",
              "      <td>6.7</td>\n",
              "      <td>3.1</td>\n",
              "      <td>4.7</td>\n",
              "      <td>1.5</td>\n",
              "      <td>Iris-versicolor</td>\n",
              "    </tr>\n",
              "    <tr>\n",
              "      <th>11</th>\n",
              "      <td>4.8</td>\n",
              "      <td>3.4</td>\n",
              "      <td>1.6</td>\n",
              "      <td>0.2</td>\n",
              "      <td>Iris-setosa</td>\n",
              "    </tr>\n",
              "    <tr>\n",
              "      <th>44</th>\n",
              "      <td>5.1</td>\n",
              "      <td>3.8</td>\n",
              "      <td>1.9</td>\n",
              "      <td>0.4</td>\n",
              "      <td>Iris-setosa</td>\n",
              "    </tr>\n",
              "    <tr>\n",
              "      <th>119</th>\n",
              "      <td>6.0</td>\n",
              "      <td>2.2</td>\n",
              "      <td>5.0</td>\n",
              "      <td>1.5</td>\n",
              "      <td>Iris-virginica</td>\n",
              "    </tr>\n",
              "  </tbody>\n",
              "</table>\n",
              "</div>"
            ],
            "text/plain": [
              "     SepalLengthCm  SepalWidthCm  PetalLengthCm  PetalWidthCm          Species\n",
              "136            6.3           3.4            5.6           2.4   Iris-virginica\n",
              "86             6.7           3.1            4.7           1.5  Iris-versicolor\n",
              "11             4.8           3.4            1.6           0.2      Iris-setosa\n",
              "44             5.1           3.8            1.9           0.4      Iris-setosa\n",
              "119            6.0           2.2            5.0           1.5   Iris-virginica"
            ]
          },
          "metadata": {
            "tags": []
          },
          "execution_count": 10
        }
      ]
    },
    {
      "cell_type": "markdown",
      "metadata": {
        "id": "itZi0Kutz4y3"
      },
      "source": [
        "##6. Encoding Categorical Data"
      ]
    },
    {
      "cell_type": "code",
      "metadata": {
        "id": "Vnbl0-xsxjHb",
        "colab": {
          "base_uri": "https://localhost:8080/",
          "height": 196
        },
        "outputId": "e7bda142-484a-40e6-d54e-008e7989cba7"
      },
      "source": [
        "from sklearn.preprocessing import LabelEncoder\n",
        "\n",
        "labelencoder = LabelEncoder()\n",
        "raw_data[\"Species\"] = labelencoder.fit_transform(raw_data[\"Species\"])\n",
        "raw_data.head()"
      ],
      "execution_count": null,
      "outputs": [
        {
          "output_type": "execute_result",
          "data": {
            "text/html": [
              "<div>\n",
              "<style scoped>\n",
              "    .dataframe tbody tr th:only-of-type {\n",
              "        vertical-align: middle;\n",
              "    }\n",
              "\n",
              "    .dataframe tbody tr th {\n",
              "        vertical-align: top;\n",
              "    }\n",
              "\n",
              "    .dataframe thead th {\n",
              "        text-align: right;\n",
              "    }\n",
              "</style>\n",
              "<table border=\"1\" class=\"dataframe\">\n",
              "  <thead>\n",
              "    <tr style=\"text-align: right;\">\n",
              "      <th></th>\n",
              "      <th>SepalLengthCm</th>\n",
              "      <th>SepalWidthCm</th>\n",
              "      <th>PetalLengthCm</th>\n",
              "      <th>PetalWidthCm</th>\n",
              "      <th>Species</th>\n",
              "    </tr>\n",
              "  </thead>\n",
              "  <tbody>\n",
              "    <tr>\n",
              "      <th>136</th>\n",
              "      <td>6.3</td>\n",
              "      <td>3.4</td>\n",
              "      <td>5.6</td>\n",
              "      <td>2.4</td>\n",
              "      <td>2</td>\n",
              "    </tr>\n",
              "    <tr>\n",
              "      <th>86</th>\n",
              "      <td>6.7</td>\n",
              "      <td>3.1</td>\n",
              "      <td>4.7</td>\n",
              "      <td>1.5</td>\n",
              "      <td>1</td>\n",
              "    </tr>\n",
              "    <tr>\n",
              "      <th>11</th>\n",
              "      <td>4.8</td>\n",
              "      <td>3.4</td>\n",
              "      <td>1.6</td>\n",
              "      <td>0.2</td>\n",
              "      <td>0</td>\n",
              "    </tr>\n",
              "    <tr>\n",
              "      <th>44</th>\n",
              "      <td>5.1</td>\n",
              "      <td>3.8</td>\n",
              "      <td>1.9</td>\n",
              "      <td>0.4</td>\n",
              "      <td>0</td>\n",
              "    </tr>\n",
              "    <tr>\n",
              "      <th>119</th>\n",
              "      <td>6.0</td>\n",
              "      <td>2.2</td>\n",
              "      <td>5.0</td>\n",
              "      <td>1.5</td>\n",
              "      <td>2</td>\n",
              "    </tr>\n",
              "  </tbody>\n",
              "</table>\n",
              "</div>"
            ],
            "text/plain": [
              "     SepalLengthCm  SepalWidthCm  PetalLengthCm  PetalWidthCm  Species\n",
              "136            6.3           3.4            5.6           2.4        2\n",
              "86             6.7           3.1            4.7           1.5        1\n",
              "11             4.8           3.4            1.6           0.2        0\n",
              "44             5.1           3.8            1.9           0.4        0\n",
              "119            6.0           2.2            5.0           1.5        2"
            ]
          },
          "metadata": {
            "tags": []
          },
          "execution_count": 11
        }
      ]
    },
    {
      "cell_type": "markdown",
      "metadata": {
        "id": "OT3EuQ1E1F-z"
      },
      "source": [
        "##7. Seperating X and Y"
      ]
    },
    {
      "cell_type": "code",
      "metadata": {
        "id": "96WCcD7n0Kp2",
        "colab": {
          "base_uri": "https://localhost:8080/",
          "height": 33
        },
        "outputId": "d19d411f-752d-45d4-9caa-2102a95dc611"
      },
      "source": [
        "y = raw_data.iloc[:, raw_data.shape[1]-1:raw_data.shape[1]]\n",
        "x = raw_data.iloc[:, 1:raw_data.shape[1]]\n",
        "print(x.shape, y.shape)"
      ],
      "execution_count": null,
      "outputs": [
        {
          "output_type": "stream",
          "text": [
            "(150, 4) (150, 1)\n"
          ],
          "name": "stdout"
        }
      ]
    },
    {
      "cell_type": "code",
      "metadata": {
        "id": "C5V5o09A0jjI",
        "colab": {
          "base_uri": "https://localhost:8080/",
          "height": 196
        },
        "outputId": "957ef3d7-9b7a-4818-c0ae-02ca142e906d"
      },
      "source": [
        "x.head()"
      ],
      "execution_count": null,
      "outputs": [
        {
          "output_type": "execute_result",
          "data": {
            "text/html": [
              "<div>\n",
              "<style scoped>\n",
              "    .dataframe tbody tr th:only-of-type {\n",
              "        vertical-align: middle;\n",
              "    }\n",
              "\n",
              "    .dataframe tbody tr th {\n",
              "        vertical-align: top;\n",
              "    }\n",
              "\n",
              "    .dataframe thead th {\n",
              "        text-align: right;\n",
              "    }\n",
              "</style>\n",
              "<table border=\"1\" class=\"dataframe\">\n",
              "  <thead>\n",
              "    <tr style=\"text-align: right;\">\n",
              "      <th></th>\n",
              "      <th>SepalWidthCm</th>\n",
              "      <th>PetalLengthCm</th>\n",
              "      <th>PetalWidthCm</th>\n",
              "      <th>Species</th>\n",
              "    </tr>\n",
              "  </thead>\n",
              "  <tbody>\n",
              "    <tr>\n",
              "      <th>136</th>\n",
              "      <td>3.4</td>\n",
              "      <td>5.6</td>\n",
              "      <td>2.4</td>\n",
              "      <td>2</td>\n",
              "    </tr>\n",
              "    <tr>\n",
              "      <th>86</th>\n",
              "      <td>3.1</td>\n",
              "      <td>4.7</td>\n",
              "      <td>1.5</td>\n",
              "      <td>1</td>\n",
              "    </tr>\n",
              "    <tr>\n",
              "      <th>11</th>\n",
              "      <td>3.4</td>\n",
              "      <td>1.6</td>\n",
              "      <td>0.2</td>\n",
              "      <td>0</td>\n",
              "    </tr>\n",
              "    <tr>\n",
              "      <th>44</th>\n",
              "      <td>3.8</td>\n",
              "      <td>1.9</td>\n",
              "      <td>0.4</td>\n",
              "      <td>0</td>\n",
              "    </tr>\n",
              "    <tr>\n",
              "      <th>119</th>\n",
              "      <td>2.2</td>\n",
              "      <td>5.0</td>\n",
              "      <td>1.5</td>\n",
              "      <td>2</td>\n",
              "    </tr>\n",
              "  </tbody>\n",
              "</table>\n",
              "</div>"
            ],
            "text/plain": [
              "     SepalWidthCm  PetalLengthCm  PetalWidthCm  Species\n",
              "136           3.4            5.6           2.4        2\n",
              "86            3.1            4.7           1.5        1\n",
              "11            3.4            1.6           0.2        0\n",
              "44            3.8            1.9           0.4        0\n",
              "119           2.2            5.0           1.5        2"
            ]
          },
          "metadata": {
            "tags": []
          },
          "execution_count": 13
        }
      ]
    },
    {
      "cell_type": "code",
      "metadata": {
        "id": "t13_pZx80npf",
        "colab": {
          "base_uri": "https://localhost:8080/",
          "height": 196
        },
        "outputId": "1dff932f-472d-4737-c317-426585718952"
      },
      "source": [
        "y.head()"
      ],
      "execution_count": null,
      "outputs": [
        {
          "output_type": "execute_result",
          "data": {
            "text/html": [
              "<div>\n",
              "<style scoped>\n",
              "    .dataframe tbody tr th:only-of-type {\n",
              "        vertical-align: middle;\n",
              "    }\n",
              "\n",
              "    .dataframe tbody tr th {\n",
              "        vertical-align: top;\n",
              "    }\n",
              "\n",
              "    .dataframe thead th {\n",
              "        text-align: right;\n",
              "    }\n",
              "</style>\n",
              "<table border=\"1\" class=\"dataframe\">\n",
              "  <thead>\n",
              "    <tr style=\"text-align: right;\">\n",
              "      <th></th>\n",
              "      <th>Species</th>\n",
              "    </tr>\n",
              "  </thead>\n",
              "  <tbody>\n",
              "    <tr>\n",
              "      <th>136</th>\n",
              "      <td>2</td>\n",
              "    </tr>\n",
              "    <tr>\n",
              "      <th>86</th>\n",
              "      <td>1</td>\n",
              "    </tr>\n",
              "    <tr>\n",
              "      <th>11</th>\n",
              "      <td>0</td>\n",
              "    </tr>\n",
              "    <tr>\n",
              "      <th>44</th>\n",
              "      <td>0</td>\n",
              "    </tr>\n",
              "    <tr>\n",
              "      <th>119</th>\n",
              "      <td>2</td>\n",
              "    </tr>\n",
              "  </tbody>\n",
              "</table>\n",
              "</div>"
            ],
            "text/plain": [
              "     Species\n",
              "136        2\n",
              "86         1\n",
              "11         0\n",
              "44         0\n",
              "119        2"
            ]
          },
          "metadata": {
            "tags": []
          },
          "execution_count": 14
        }
      ]
    },
    {
      "cell_type": "markdown",
      "metadata": {
        "id": "WuzSNDp31OLi"
      },
      "source": [
        "##8. Creating Classes"
      ]
    },
    {
      "cell_type": "code",
      "metadata": {
        "id": "fET12QG_0sSt",
        "colab": {
          "base_uri": "https://localhost:8080/",
          "height": 33
        },
        "outputId": "33aac01d-22e5-4bff-d21c-73ac3922247c"
      },
      "source": [
        "classes = np.unique(y)\n",
        "classes = classes.size\n",
        "print(classes)"
      ],
      "execution_count": null,
      "outputs": [
        {
          "output_type": "stream",
          "text": [
            "3\n"
          ],
          "name": "stdout"
        }
      ]
    },
    {
      "cell_type": "markdown",
      "metadata": {
        "id": "PwnbOWXr1iCm"
      },
      "source": [
        "##9. Splitting Test and Train Data"
      ]
    },
    {
      "cell_type": "code",
      "metadata": {
        "id": "DRihuPYW1bt9",
        "colab": {
          "base_uri": "https://localhost:8080/",
          "height": 33
        },
        "outputId": "a45e3833-f668-4f4d-9afa-44569c94fa90"
      },
      "source": [
        "from sklearn.model_selection import train_test_split\n",
        "x_train, x_test, y_train, y_test = train_test_split(x, y, test_size=0.25, random_state=2)\n",
        "print(x_train.shape, x_test.shape, y_train.shape, y_test.shape)"
      ],
      "execution_count": null,
      "outputs": [
        {
          "output_type": "stream",
          "text": [
            "(112, 4) (38, 4) (112, 1) (38, 1)\n"
          ],
          "name": "stdout"
        }
      ]
    },
    {
      "cell_type": "markdown",
      "metadata": {
        "id": "IxpEBkzO2NX7"
      },
      "source": [
        "##10. Changing the Type of X and Y"
      ]
    },
    {
      "cell_type": "code",
      "metadata": {
        "id": "DxMDJv7y151z"
      },
      "source": [
        "x_train = np.array(x_train)\n",
        "y_train = np.array(y_train)"
      ],
      "execution_count": null,
      "outputs": []
    },
    {
      "cell_type": "markdown",
      "metadata": {
        "id": "cgYeRXFf3gsS"
      },
      "source": [
        "##11. Inserting Bias Term"
      ]
    },
    {
      "cell_type": "code",
      "metadata": {
        "id": "mp21ZTts2YGR",
        "colab": {
          "base_uri": "https://localhost:8080/",
          "height": 33
        },
        "outputId": "f8df7c85-85eb-4129-ddcd-8da2c8650aa5"
      },
      "source": [
        "rows = x_train.shape[0]\n",
        "x_train = np.insert(x_train, 0, values=np.ones(rows), axis=1)\n",
        "print(x_train.shape)"
      ],
      "execution_count": null,
      "outputs": [
        {
          "output_type": "stream",
          "text": [
            "(112, 5)\n"
          ],
          "name": "stdout"
        }
      ]
    },
    {
      "cell_type": "markdown",
      "metadata": {
        "id": "zfkolfn03rg0"
      },
      "source": [
        "##12. Defining ComputeCost, Sigmoid and Gradient"
      ]
    },
    {
      "cell_type": "code",
      "metadata": {
        "id": "4o5uddPS3Iuf",
        "colab": {
          "base_uri": "https://localhost:8080/",
          "height": 33
        },
        "outputId": "8c3c07e8-03dd-4b13-a56b-c1a940f7dacb"
      },
      "source": [
        "theta = np.zeros((classes, x_train.shape[1]))\n",
        "print(theta.shape)"
      ],
      "execution_count": null,
      "outputs": [
        {
          "output_type": "stream",
          "text": [
            "(3, 5)\n"
          ],
          "name": "stdout"
        }
      ]
    },
    {
      "cell_type": "code",
      "metadata": {
        "id": "KsOGDFEB3Rza"
      },
      "source": [
        "#Model\n",
        "def sigmoid(z):\n",
        "    return 1 / (1 + np.exp(-z))"
      ],
      "execution_count": null,
      "outputs": []
    },
    {
      "cell_type": "code",
      "metadata": {
        "id": "gWg94ZkX31zg"
      },
      "source": [
        "#Error\n",
        "def ComputeCost(theta, x, y):\n",
        "    theta = np.matrix(theta)\n",
        "    x = np.matrix(x)\n",
        "    y = np.matrix(y)\n",
        "    # (-y*log(g(z))) --> when expected output (y)=1\n",
        "    first = np.multiply(-y, np.log(sigmoid(x * theta.T))) \n",
        "    # ((1-y)*(1-log(g(z)))) --> when expected output (y)=0\n",
        "    second = np.multiply((1 - y), np.log(1 - sigmoid(x * theta.T)))\n",
        "    cost = np.sum(first - second)\n",
        "    cost = cost/(2*len(x)) \n",
        "    return cost"
      ],
      "execution_count": null,
      "outputs": []
    },
    {
      "cell_type": "code",
      "metadata": {
        "id": "RIooaUZ7356i",
        "colab": {
          "base_uri": "https://localhost:8080/",
          "height": 33
        },
        "outputId": "baa7b0c8-03e5-44a9-ff68-18fc865cd81e"
      },
      "source": [
        "print(ComputeCost(theta, x_train, y_train))"
      ],
      "execution_count": null,
      "outputs": [
        {
          "output_type": "stream",
          "text": [
            "1.0397207708399179\n"
          ],
          "name": "stdout"
        }
      ]
    },
    {
      "cell_type": "code",
      "metadata": {
        "id": "sX431Fog3-eU"
      },
      "source": [
        "def gradient(theta, x, y):\n",
        "    \n",
        "    theta = np.matrix(theta)\n",
        "    x = np.matrix(x)\n",
        "    y = np.matrix(y)\n",
        "    learning_rate = 1\n",
        "        \n",
        "    error = sigmoid(x * theta.T) - y\n",
        "    grad = learning_rate*((x.T * error) / len(x))\n",
        "    \n",
        "    return grad"
      ],
      "execution_count": null,
      "outputs": []
    },
    {
      "cell_type": "markdown",
      "metadata": {
        "id": "txnmJXMe6znp"
      },
      "source": [
        "##13. Defining Minimize method"
      ]
    },
    {
      "cell_type": "code",
      "metadata": {
        "id": "ZBSpNT4X5EDQ"
      },
      "source": [
        "from scipy.optimize import minimize\n",
        "def one_vs_all(x, y, classes, new_theta):\n",
        "    params = x.shape[1]\n",
        "    rows = x.shape[0]\n",
        "      \n",
        "    for i in range(0, classes):\n",
        "        curr_theta = new_theta[i,:]\n",
        "        \n",
        "        y_i = np.array([1 if label == i else 0 for label in y]) \n",
        "        y_i = np.reshape(y_i, (rows, 1))\n",
        "                \n",
        "        # minimize the objective function  --> Gradient descent\n",
        "        fmin = minimize(fun=ComputeCost, x0=curr_theta, args=(x, y_i), method='TNC', jac=gradient)\n",
        "        theta[i,:] = fmin.x\n",
        "        \n",
        "        print(fmin.fun)\n",
        "    \n",
        "    return theta "
      ],
      "execution_count": null,
      "outputs": []
    },
    {
      "cell_type": "code",
      "metadata": {
        "id": "anbH7if_5We7",
        "colab": {
          "base_uri": "https://localhost:8080/",
          "height": 67
        },
        "outputId": "e1433729-a819-434b-e554-b797325fb5cb"
      },
      "source": [
        "theta = one_vs_all(x_train, y_train, classes, theta)"
      ],
      "execution_count": null,
      "outputs": [
        {
          "output_type": "stream",
          "text": [
            "2.100443796737246e-08\n",
            "0.09592642402024668\n",
            "7.328080902615946e-09\n"
          ],
          "name": "stdout"
        }
      ]
    },
    {
      "cell_type": "code",
      "metadata": {
        "id": "T2OjD5Na5cTn",
        "colab": {
          "base_uri": "https://localhost:8080/",
          "height": 67
        },
        "outputId": "803ff480-25f5-49f5-f93d-549dae357931"
      },
      "source": [
        "print('new theta = {}'.format(theta))"
      ],
      "execution_count": null,
      "outputs": [
        {
          "output_type": "stream",
          "text": [
            "new theta = [[  3.45208845  10.35675708  -9.60340794  -4.5595971   -6.37278514]\n",
            " [ 16.85530852  -8.39549868   3.78080299   7.47037439 -16.58489639]\n",
            " [-32.79431648 -11.50538653  -3.77498101  12.16908571  41.35025238]]\n"
          ],
          "name": "stdout"
        }
      ]
    },
    {
      "cell_type": "markdown",
      "metadata": {
        "id": "GFQePFGX69P6"
      },
      "source": [
        "##14. Predicting"
      ]
    },
    {
      "cell_type": "code",
      "metadata": {
        "id": "gxSdJu495nd_"
      },
      "source": [
        "def predict_all(x, theta):\n",
        "\n",
        "    x = np.matrix(x)\n",
        "    theta = np.matrix(theta)\n",
        "    \n",
        "    h = sigmoid(x * theta.T)\n",
        "    \n",
        "    h_argmax = np.argmax(h, axis=1)\n",
        "    \n",
        "    return h_argmax, h "
      ],
      "execution_count": null,
      "outputs": []
    },
    {
      "cell_type": "code",
      "metadata": {
        "id": "6Yf2aDQG6B5_",
        "colab": {
          "base_uri": "https://localhost:8080/",
          "height": 1000
        },
        "outputId": "348c2204-73b3-4a6d-d8ee-edf59c0ef7c3"
      },
      "source": [
        "y_prediction, h = predict_all(x_train, theta)\n",
        "print(y_prediction, h)"
      ],
      "execution_count": null,
      "outputs": [
        {
          "output_type": "stream",
          "text": [
            "[[1]\n",
            " [1]\n",
            " [2]\n",
            " [1]\n",
            " [0]\n",
            " [2]\n",
            " [0]\n",
            " [1]\n",
            " [0]\n",
            " [1]\n",
            " [2]\n",
            " [0]\n",
            " [1]\n",
            " [1]\n",
            " [0]\n",
            " [0]\n",
            " [1]\n",
            " [1]\n",
            " [2]\n",
            " [1]\n",
            " [0]\n",
            " [1]\n",
            " [1]\n",
            " [0]\n",
            " [0]\n",
            " [1]\n",
            " [0]\n",
            " [1]\n",
            " [0]\n",
            " [0]\n",
            " [0]\n",
            " [0]\n",
            " [0]\n",
            " [1]\n",
            " [2]\n",
            " [2]\n",
            " [0]\n",
            " [2]\n",
            " [2]\n",
            " [2]\n",
            " [1]\n",
            " [1]\n",
            " [2]\n",
            " [2]\n",
            " [2]\n",
            " [2]\n",
            " [1]\n",
            " [2]\n",
            " [2]\n",
            " [2]\n",
            " [1]\n",
            " [1]\n",
            " [2]\n",
            " [2]\n",
            " [0]\n",
            " [2]\n",
            " [2]\n",
            " [1]\n",
            " [2]\n",
            " [1]\n",
            " [1]\n",
            " [2]\n",
            " [0]\n",
            " [1]\n",
            " [0]\n",
            " [2]\n",
            " [1]\n",
            " [0]\n",
            " [0]\n",
            " [1]\n",
            " [1]\n",
            " [1]\n",
            " [2]\n",
            " [0]\n",
            " [1]\n",
            " [1]\n",
            " [1]\n",
            " [1]\n",
            " [2]\n",
            " [1]\n",
            " [0]\n",
            " [1]\n",
            " [2]\n",
            " [2]\n",
            " [2]\n",
            " [0]\n",
            " [0]\n",
            " [1]\n",
            " [0]\n",
            " [1]\n",
            " [2]\n",
            " [0]\n",
            " [1]\n",
            " [1]\n",
            " [2]\n",
            " [2]\n",
            " [1]\n",
            " [2]\n",
            " [2]\n",
            " [0]\n",
            " [2]\n",
            " [2]\n",
            " [2]\n",
            " [1]\n",
            " [0]\n",
            " [1]\n",
            " [2]\n",
            " [1]\n",
            " [0]\n",
            " [1]\n",
            " [0]\n",
            " [0]] [[1.22417483e-08 6.66395919e-01 6.38754806e-13]\n",
            " [1.30212109e-08 8.29283916e-01 8.76279672e-10]\n",
            " [3.42655751e-18 6.84410413e-02 1.00000000e+00]\n",
            " [1.85445658e-11 9.81582458e-01 1.31848107e-12]\n",
            " [1.00000000e+00 1.07280480e-02 2.32570449e-33]\n",
            " [1.18897770e-17 4.04377702e-03 1.00000000e+00]\n",
            " [1.00000000e+00 2.26427601e-05 7.25028417e-36]\n",
            " [9.62002803e-11 9.70347734e-01 1.65150418e-11]\n",
            " [9.99999995e-01 3.34637340e-01 1.32992291e-31]\n",
            " [3.71096792e-14 9.99878219e-01 1.31253057e-09]\n",
            " [1.40680517e-17 3.14815831e-03 9.99999994e-01]\n",
            " [1.00000000e+00 3.87748937e-03 8.40485299e-34]\n",
            " [2.22359510e-11 9.70609112e-01 2.29875304e-12]\n",
            " [2.15350493e-07 7.12547592e-01 1.25342020e-08]\n",
            " [1.00000000e+00 3.19892052e-03 1.07356238e-33]\n",
            " [9.99999998e-01 1.18631052e-01 7.33790858e-32]\n",
            " [5.62557755e-10 8.36595850e-01 2.62902864e-13]\n",
            " [1.53673961e-06 3.19916274e-01 1.56212280e-10]\n",
            " [1.68683652e-17 1.95305043e-03 9.99999996e-01]\n",
            " [3.15907460e-09 9.37360887e-01 2.02858903e-09]\n",
            " [1.00000000e+00 2.19403151e-03 1.56593102e-33]\n",
            " [1.41679110e-12 9.99330149e-01 7.58905952e-09]\n",
            " [7.05292030e-07 2.98447937e-01 1.86718885e-10]\n",
            " [1.00000000e+00 1.54412586e-02 1.14550385e-32]\n",
            " [1.00000000e+00 5.50448353e-04 1.59925912e-35]\n",
            " [1.84972002e-09 8.69029560e-01 1.11198204e-11]\n",
            " [1.00000000e+00 7.95877023e-04 7.87700019e-35]\n",
            " [1.41136652e-09 9.84970542e-01 1.85876161e-07]\n",
            " [1.00000000e+00 1.09131468e-05 2.67191110e-37]\n",
            " [1.00000000e+00 8.72951476e-04 7.37117576e-35]\n",
            " [1.00000000e+00 7.37550587e-03 3.39234391e-33]\n",
            " [1.00000000e+00 1.54432704e-03 3.95634595e-35]\n",
            " [1.00000000e+00 3.05392013e-04 1.53792822e-33]\n",
            " [1.08873707e-10 9.84367404e-01 5.95937130e-11]\n",
            " [5.81347918e-19 8.16706287e-03 9.99999873e-01]\n",
            " [1.18897770e-17 4.04377702e-03 1.00000000e+00]\n",
            " [1.00000000e+00 1.69376015e-03 3.70228776e-35]\n",
            " [1.10552061e-19 4.91912282e-02 1.00000000e+00]\n",
            " [1.47204977e-21 3.24301920e-02 9.99999571e-01]\n",
            " [3.91442456e-18 1.46941202e-02 1.00000000e+00]\n",
            " [1.26577958e-10 9.61568997e-01 2.80520487e-12]\n",
            " [3.47546776e-11 9.93302790e-01 2.34334744e-11]\n",
            " [4.98758575e-17 2.57336778e-03 9.99999999e-01]\n",
            " [6.79425894e-20 6.54440429e-02 9.99999997e-01]\n",
            " [1.18594087e-15 5.05235228e-04 1.00000000e+00]\n",
            " [8.14668891e-20 4.15866744e-02 9.99999998e-01]\n",
            " [5.46919460e-09 8.97417165e-01 5.85280269e-11]\n",
            " [1.56843357e-19 2.43284076e-02 9.99999993e-01]\n",
            " [1.07055145e-18 1.15706901e-02 9.99999997e-01]\n",
            " [2.26076217e-21 7.14072393e-02 9.99999981e-01]\n",
            " [1.47932657e-11 9.95322352e-01 1.29100431e-10]\n",
            " [7.73402008e-14 9.99955478e-01 1.87459943e-07]\n",
            " [1.28037124e-16 9.02244661e-04 1.00000000e+00]\n",
            " [4.50619359e-24 6.10698246e-01 9.99999946e-01]\n",
            " [9.99999996e-01 1.64189901e-01 5.03068303e-32]\n",
            " [2.11850543e-26 9.94098448e-01 1.00000000e+00]\n",
            " [1.64204325e-17 9.38750675e-03 1.00000000e+00]\n",
            " [3.06698220e-10 9.64534701e-01 1.88593993e-11]\n",
            " [2.48111641e-18 3.05173482e-02 1.00000000e+00]\n",
            " [1.71329883e-08 7.87872137e-01 1.48842735e-10]\n",
            " [3.56115595e-09 7.92230566e-01 2.57812478e-12]\n",
            " [9.00070234e-18 7.02691265e-04 9.99999934e-01]\n",
            " [9.99999997e-01 3.10678100e-01 1.14205470e-30]\n",
            " [1.01231610e-12 9.98755241e-01 3.25682558e-11]\n",
            " [1.00000000e+00 2.25778998e-02 1.09310995e-33]\n",
            " [1.44904737e-16 1.73467821e-03 1.00000000e+00]\n",
            " [6.36669124e-10 9.07848163e-01 9.48672004e-13]\n",
            " [9.99999998e-01 7.82094450e-02 1.59204143e-32]\n",
            " [1.00000000e+00 6.58687718e-02 1.81803627e-32]\n",
            " [6.08976053e-10 9.60586095e-01 1.61952738e-10]\n",
            " [3.55660507e-08 5.73634390e-01 7.48713857e-12]\n",
            " [1.03727491e-10 9.53763508e-01 3.58312326e-12]\n",
            " [1.22297463e-18 2.37055022e-03 9.99999969e-01]\n",
            " [1.00000000e+00 4.60873863e-02 2.65184348e-32]\n",
            " [9.20158758e-11 9.87798277e-01 2.81936878e-09]\n",
            " [4.99679280e-11 9.82742460e-01 7.12317345e-11]\n",
            " [3.06698220e-10 9.64534701e-01 1.88593993e-11]\n",
            " [6.24788862e-09 6.39739185e-01 6.13541019e-12]\n",
            " [3.38950170e-19 1.48365783e-03 9.99999874e-01]\n",
            " [2.43381601e-09 8.35344852e-01 1.88878567e-12]\n",
            " [1.00000000e+00 3.83060575e-02 3.38723284e-32]\n",
            " [6.60067958e-11 9.96967902e-01 3.43533676e-08]\n",
            " [2.07512899e-16 8.83404806e-05 9.99999944e-01]\n",
            " [9.42312308e-16 2.67171561e-04 1.00000000e+00]\n",
            " [2.29199698e-18 6.56916522e-03 9.99999998e-01]\n",
            " [1.00000000e+00 1.07280480e-02 2.32570449e-33]\n",
            " [1.00000000e+00 1.83564219e-02 7.20668825e-32]\n",
            " [1.85208679e-10 9.49508235e-01 3.82900415e-12]\n",
            " [1.00000000e+00 1.19473287e-01 6.56029412e-32]\n",
            " [1.17092714e-08 8.31698707e-01 1.09045159e-10]\n",
            " [2.84526716e-21 1.26983228e-01 9.99999999e-01]\n",
            " [1.00000000e+00 4.66190868e-03 7.36006998e-34]\n",
            " [1.26416205e-09 8.98253999e-01 8.14660241e-12]\n",
            " [3.41934899e-12 9.95364635e-01 1.79696794e-11]\n",
            " [7.00722492e-20 9.84505766e-02 1.00000000e+00]\n",
            " [1.08489157e-18 9.23931879e-03 1.00000000e+00]\n",
            " [5.23799574e-10 9.83957860e-01 3.44052053e-09]\n",
            " [7.50649779e-18 1.13355011e-03 9.99999885e-01]\n",
            " [2.89566438e-21 2.21625111e-01 9.99999999e-01]\n",
            " [1.00000000e+00 2.65667581e-02 4.94072171e-32]\n",
            " [2.86220441e-15 7.27526999e-05 9.99999993e-01]\n",
            " [5.92156167e-23 2.97361411e-01 9.99999891e-01]\n",
            " [1.33688530e-15 1.28785176e-04 9.99999987e-01]\n",
            " [6.88321840e-09 9.43011096e-01 1.69715300e-09]\n",
            " [9.99999999e-01 9.18689232e-02 1.00159823e-31]\n",
            " [4.83255387e-09 8.19701316e-01 1.62197112e-11]\n",
            " [4.19333183e-16 1.54956495e-04 9.99999985e-01]\n",
            " [1.84972002e-09 8.69029560e-01 1.11198204e-11]\n",
            " [1.00000000e+00 3.40776560e-04 1.79091770e-34]\n",
            " [6.06644053e-07 5.17053265e-01 3.96665204e-09]\n",
            " [9.99998515e-01 9.91002923e-01 5.24010953e-27]\n",
            " [9.99999995e-01 3.30828868e-01 1.06871724e-30]]\n"
          ],
          "name": "stdout"
        }
      ]
    },
    {
      "cell_type": "markdown",
      "metadata": {
        "id": "gB97IKZU7G4J"
      },
      "source": [
        "##15. Calculating Accuracy"
      ]
    },
    {
      "cell_type": "code",
      "metadata": {
        "id": "yI8zAc2F6E5_"
      },
      "source": [
        "def accuracy(y_prediction, y):\n",
        "  correct = [1 if a == b else 0 for (a, b) in zip(y_prediction, y)]\n",
        "  acc = (sum(correct)) / (len(correct))\n",
        "  return acc"
      ],
      "execution_count": null,
      "outputs": []
    },
    {
      "cell_type": "code",
      "metadata": {
        "id": "9KCtPYSX6Q1J",
        "colab": {
          "base_uri": "https://localhost:8080/",
          "height": 33
        },
        "outputId": "cef43bf5-b834-4b97-97f2-c00fcc5100c1"
      },
      "source": [
        "accuracy = acc(y_prediction, y_train)\n",
        "print (\"Training data accuracy={} %\".format(accuracy * 100))"
      ],
      "execution_count": null,
      "outputs": [
        {
          "output_type": "stream",
          "text": [
            "Training data accuracy=100.0 %\n"
          ],
          "name": "stdout"
        }
      ]
    },
    {
      "cell_type": "code",
      "metadata": {
        "id": "nqhCr2eS6cVL",
        "colab": {
          "base_uri": "https://localhost:8080/",
          "height": 33
        },
        "outputId": "5f6ae70d-fe3f-428b-dd43-f55c8878c81b"
      },
      "source": [
        "t_x = np.array(x_test)\n",
        "t_y = np.array(y_test)\n",
        "\n",
        "t_rows = t_x.shape[0] #Finding the number of Rows (data samples)\n",
        "t_x = np.insert(t_x, 0, values=np.ones(t_rows), axis=1) #inserting ones into x\n",
        "t_y_pred, h= predict_all(t_x, theta)\n",
        "print (\"Test data accuracy={} %\".format(acc(t_y_pred, t_y) * 100))"
      ],
      "execution_count": null,
      "outputs": [
        {
          "output_type": "stream",
          "text": [
            "Test data accuracy=100.0 %\n"
          ],
          "name": "stdout"
        }
      ]
    }
  ]
}